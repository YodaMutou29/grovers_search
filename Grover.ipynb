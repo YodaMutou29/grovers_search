{
 "cells": [
  {
   "cell_type": "code",
   "execution_count": null,
   "id": "cb8f19ea-9b81-4a5a-b7ae-c2af3ec62efb",
   "metadata": {},
   "outputs": [],
   "source": [
    "# Grover's Algorithm\n",
    "# CPSC 4110"
   ]
  }
 ],
 "metadata": {
  "kernelspec": {
   "display_name": "Qiskit v0.32.1 (ipykernel)",
   "language": "python",
   "name": "python3"
  },
  "language_info": {
   "codemirror_mode": {
    "name": "ipython",
    "version": 3
   },
   "file_extension": ".py",
   "mimetype": "text/x-python",
   "name": "python",
   "nbconvert_exporter": "python",
   "pygments_lexer": "ipython3",
   "version": "3.8.10"
  },
  "widgets": {
   "application/vnd.jupyter.widget-state+json": {
    "state": {},
    "version_major": 2,
    "version_minor": 0
   }
  }
 },
 "nbformat": 4,
 "nbformat_minor": 5
}
